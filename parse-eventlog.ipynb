{
 "cells": [
  {
   "cell_type": "code",
   "execution_count": 4,
   "metadata": {
    "collapsed": true
   },
   "outputs": [],
   "source": [
    "import sys\n",
    "import json\n",
    "import numpy as np\n",
    "from operator import add\n",
    "from math import sqrt\n",
    "# from pyspark import SparkContext\n",
    "# sc = SparkContext(appName=\"ParseEventLog\")\n",
    "from pyspark.sql import SQLContext"
   ]
  },
  {
   "cell_type": "markdown",
   "metadata": {},
   "source": [
    "Goal Here:\n",
    "* **Summary Bar Plot** \n",
    "    * Shows Total Time a job spends in each bucket:\n",
    "            * average task for each stage \n",
    "            * min task for each stage\n",
    "            * median task for each stage\n",
    "            * max task for each stage\n",
    "* **Box and whisker of Task Times in each stage**\n",
    "* **Box and whisker of Buckets for Each Stage**\n",
    "* **Stack plot with buckets and error bars for a task for each stage**\n",
    "* **Average, Median, Min and Max Task for each stage for a few of the nodes over time**"
   ]
  },
  {
   "cell_type": "markdown",
   "metadata": {},
   "source": [
    "**TODO if stage is a count or collect then classify it as io or metadata**\n",
    "**TODO: get median thing working**"
   ]
  },
  {
   "cell_type": "code",
   "execution_count": 5,
   "metadata": {
    "collapsed": false
   },
   "outputs": [],
   "source": [
    "cx_dict = {'treeAggregate at CX.scala:27': 2, 'collect at IndexedRowMatrix.scala:193': 3, 'parquetFile at CX.scala:168': 1, 'count at CX.scala:189': 1,\n",
    "           'count at CX.scala:165':0, 'count at CX.scala:166':0 }\n",
    "                  \n",
    "\n",
    "pca_dict = {'parquetFile at eofs.scala':0, 'collect at eofs.scala':1, 'count at eofs.scala': 1, 'treeAggregate at eofs.scala': 2, 'collect at IndexedRowMatrix.scala': 3,\n",
    "                     'treeReduce at eofs.scala': 2,\n",
    "                     }\n",
    "\n",
    "\n",
    "phase_names = sc.broadcast(['IO Load Metadata Time', 'IO Load Matrix Time', 'Task Compute Time', 'Finalize/Collect'])\n",
    "stage_to_phase_dict = sc.broadcast({'cx': cx_dict, 'pca': pca_dict})#, 'randsvd': pca_dict}"
   ]
  },
  {
   "cell_type": "code",
   "execution_count": 6,
   "metadata": {
    "collapsed": false
   },
   "outputs": [],
   "source": [
    "items_not_to_subtract = ['Launch Time', 'Finish Time', 'Getting Result Time',\n",
    "                         'Executor Deserialize Time','Executor Run Time' ,\"JVM GC Time\", \n",
    "                         \"Result Serialization Time\", 'Task Start Delay', \"Time Waiting Until Stage End\",\n",
    "                         'Time To Finish From Stage Start']\n",
    "\n",
    "\n",
    "misbehaving_tasks=[]\n",
    "#items_not_applicable = ['Launch Time', 'Finish Time', 'Total Task Time']\n",
    "items_to_subtract = ['Shuffle Write Time', 'Fetch Wait Time'] #, 'JVM GC Time']\n",
    "\n",
    "\n",
    "min_or_max_dict = {'min': np.argmin, 'max': np.argmax}\n",
    "\n",
    "def update_task_dict(task_info, appStart, stage_dic):\n",
    "    '''Parse task dict for time related keys\n",
    "    Add Total Task Time, Task Start Delay and Time until stage end to dict'''\n",
    "    stage_id = task_info[\"Stage ID\"]\n",
    "    stage_info = get_stage_info(stage_dic, stage_id)\n",
    "    desired_dict = parse_dict(task_info)\n",
    "    desired_dict = add_new_members(task_info, desired_dict, stage_info)\n",
    "    run_tests(desired_dict, stage_info)\n",
    "    desired_dict = delete_items(desired_dict)\n",
    "    return desired_dict\n",
    "\n",
    "\n",
    "def delete_items(desired_dict):\n",
    "    del_keys = [\"Launch Time\", \"Finish Time\", \"JVM GC Time\"] \n",
    "    for k in del_keys:\n",
    "        del desired_dict[k]\n",
    "    return desired_dict\n",
    "        \n",
    "\n",
    "def add_new_members(task_info, desired_dict,stage_info):\n",
    "    stage_name, stage_start, stage_end = stage_info\n",
    "    task_accted_for_time = desired_dict['Executor Run Time'] + desired_dict['Executor Deserialize Time'] + \\\n",
    "                           desired_dict['Result Serialization Time']  + desired_dict['Getting Result Time']\n",
    "    total_task_time = desired_dict['Finish Time'] - desired_dict['Launch Time']\n",
    "    \n",
    "\n",
    "    \n",
    "    desired_dict['Task End Overheads Time'] = total_task_time - task_accted_for_time\n",
    "    desired_dict['Time To Finish From Stage Start'] = desired_dict['Finish Time'] - stage_start\n",
    "    desired_dict['Task Start Delay'] = desired_dict['Launch Time'] - stage_start\n",
    "    \n",
    "#     if stage_end < desired_dict['Finish Time']:\n",
    "     \n",
    "#             print \"Stage end is %d task finish time is %d\" % (stage_end, desired_dict['Finish Time'])\n",
    "#             print task_info[\"Stage ID\"], task_info[\"Task Info\"][\"Speculative\"]\n",
    "        \n",
    "    desired_dict['Time Waiting Until Stage End'] = stage_end - desired_dict['Finish Time']\n",
    "    \n",
    "    return desired_dict\n",
    "    \n",
    "def run_tests(desired_dict, stage_info):\n",
    "    #assert False\n",
    "    stage_name, stage_start, stage_end = stage_info\n",
    "    total_task_time = desired_dict['Finish Time'] - desired_dict['Launch Time']\n",
    "    assert desired_dict['Task Start Delay'] +  total_task_time == desired_dict['Time To Finish From Stage Start']\n",
    "    assert desired_dict['Time To Finish From Stage Start'] + desired_dict['Time Waiting Until Stage End'] == stage_end - stage_start\n",
    "    sum_ = 0\n",
    "    for k in ['Executor Run Time',\n",
    "              'Getting Result Time',\n",
    "              'Driver Compute Time',\n",
    "              'Task Start Delay',\n",
    "              'Result Serialization Time',\n",
    "              'Task End Overheads Time',\n",
    "              'Executor Deserialize Time']:\n",
    "\n",
    "        if k in desired_dict:\n",
    "            sum_ += desired_dict[k]\n",
    "        \n",
    "    assert sum_ == desired_dict['Time To Finish From Stage Start']\n",
    "#     for k, v in desired_dict.iteritems():\n",
    "#         assert v >= 0, \"Oh no key %s is %d\" % (k,v)\n",
    "    \n",
    "def get_stage_info(stage_dic, stage_id):\n",
    "    stage_name = stage_dic[stage_id]['name']\n",
    "    stage_start = stage_dic[stage_id]['stage_submit_time']\n",
    "    stage_end =  stage_dic[stage_id]['stage_complete_time']\n",
    "    return stage_name, stage_start, stage_end\n",
    "    \n",
    "def parse_dict(task_info):\n",
    "    '''get all time related k,value pairs in the task dict from the json event logs\n",
    "    this is recurtsive b/c we parse dicts inside dicts'''\n",
    "    desired_dict={}\n",
    "    for key,value in task_info.iteritems():\n",
    "        if \"Time\" in str(key):\n",
    "            #if \"Launch Time\" in key or \"Finish Time\" in key:\n",
    "                #value = value - appStart\n",
    "            #convert nanoseconds to milliseconds\n",
    "            if \"Shuffle Write Time\" in key:\n",
    "                value /= 1000000.0\n",
    "            desired_dict[str(key)] = value\n",
    "        if isinstance(value,dict):\n",
    "            d = parse_dict(value)\n",
    "            desired_dict.update(d)\n",
    "   \n",
    "\n",
    "\n",
    "    return desired_dict\n",
    "\n",
    "def flat_map_dict(key_tuple_plus_dic):\n",
    "    '''returns a list of nested tuples, where each tuple is \n",
    "    ((key_tuple[0], key_tuple[1],...key_tuple[n], dic_key[i]), value[i])'''\n",
    "    key_tuple, dic = key_tuple_plus_dic\n",
    "    return [(tuple(list(key_tuple) + [k]),v) for k,v in dic.iteritems()]\n",
    "\n",
    "def create_compute_bucket(stage_id,dic, algo): #, stage_dic):\n",
    "    stage_name = str(stage_dict.value[stage_id]['name']) #.split(':')[0]\n",
    "    if algo == 'cx':\n",
    "        compute_bucket_id = stage_to_phase_dict.value[algo][stage_name]\n",
    "    elif algo == 'pca':\n",
    "        compute_bucket_id = stage_to_phase_dict.value[algo][stage_name.split(':')[0]]\n",
    "    compute_bucket_name = phase_names.value[compute_bucket_id]\n",
    "\n",
    "    dic[compute_bucket_name] = dic['Executor Run Time']\n",
    "    for k in dic.keys():\n",
    "        if k in items_to_subtract: #and k != compute_bucket_name :\n",
    "            dic[compute_bucket_name] -= dic[k]\n",
    "    #dic['subtracts']=subtracts\n",
    "    return dic\n",
    "\n",
    "    \n",
    "def calc_driver_comp_time(stage_dict):\n",
    "    start_finish_times = [(stage_dict[k]['stage_submit_time'], stage_dict[k]['stage_complete_time']) for k in range(len(stage_dict.keys())) ]\n",
    "    driver_comp_times = [start_finish_times[i][0] - start_finish_times[i-1][1] for i,t in enumerate(start_finish_times) ]\n",
    "    driver_comp_times[0] = start_finish_times[0][0] - appStart\n",
    "    driver_comp_times.append(appEnd - start_finish_times[-1][1])\n",
    "    total_driver_comp_time = sum(driver_comp_times)\n",
    "    return total_driver_comp_time\n",
    "\n",
    "def get_f_task_per_stage(f,stage_keyed_task_info, key):\n",
    "    if f == 'min':\n",
    "        ret = stage_keyed_task_info.reduceByKey(lambda v1,v2: v1 if v1[key] < v2[key] else v2)\n",
    "    elif f == 'max':\n",
    "        ret = stage_keyed_task_info.reduceByKey(lambda v1,v2: v1 if v1[key] > v2[key] else v2)\n",
    "    elif f == 'median':\n",
    "        '''this has some weird hacks: \n",
    "            1.collects all the values that fit the key for each stage\n",
    "            2. locally computes median \n",
    "                (but appends an extra value to any lists that are even in lenght, so median will not be an avg of two )\n",
    "            3. Finds all tasks for a given stage that have the value that matches median for that stage (ie if key is Total Task Time \n",
    "            and the median total task time for stage 4 is 50 then gets the task_info dicts for all tasks in stage 4 with Total Task time of 50)\n",
    "            4. Get rid of duplicates by picking at random one of the median tasks (TODO: get avg or something)\n",
    "            '''   \n",
    "        task_dict = stage_keyed_task_info.map(lambda (i,v): (i,v[key])).groupByKey().collectAsMap()\n",
    "        stage_and_key_keyed_task_info = stage_keyed_task_info.map(lambda (i,v): ((i,v[key]),v))\n",
    "        #duplicates max value in list to end to make all lists odd\n",
    "        list_dict ={stage:list(task_value_iter) + ([max(list(task_value_iter))] if len(list(task_value_iter)) % 2 == 0 else []) for stage,task_value_iter in task_dict.iteritems()}\n",
    "        med_dict = {k:int(np.median(v)) for k,v in list_dict.iteritems()}\n",
    "        ret = stage_and_key_keyed_task_info\\\n",
    "            .map(lambda ((stage,median_v_key),v): (stage,med_dict[stage], median_v_key, v)).filter(lambda (stage,med,val,v): med==val)\\\n",
    "            .map(lambda (stage,med,val,v): (stage,v))\\\n",
    "            .reduceByKey(lambda v1,v2: v1)\n",
    "    else:\n",
    "        assert False, \"must specify miin, max or median not %s\" % f\n",
    "    return ret\n",
    "\n",
    "# def get_f_buckets_per_stage(f,stage_keyed_task_buckets, merge_stages=False):\n",
    "#     if f == \"mean\":\n",
    "#         ret = stage_keyed_task_buckets.reduceByKey(add)\\\n",
    "#                                       .map(lambda (i,v): (i,float(v) / task_counts_dict.value[i[0]] ))\n",
    "#     elif f == 'min':\n",
    "#         ret = stage_keyed_task_buckets \\\n",
    "#                 .reduceByKey(min)\n",
    "#     elif f == 'max':\n",
    "#         ret = stage_keyed_task_buckets \\\n",
    "#                 .reduceByKey(max)\n",
    "#     elif f == 'median':\n",
    "#         ret = stage_keyed_task_buckets \\\n",
    "#             .groupByKey().map(lambda (i,v): (i, np.median(list(v))))\n",
    "#     if merge_stages:\n",
    "#         return ret.map(lambda (i,v): (i[1], v)).reduceByKey(add)\n",
    "#     else:\n",
    "#         return ret\n",
    "\n",
    "\n",
    "\n",
    "# def get_stdev_buckets_per_stage(stage_keyed_task_buckets, mean_dict, merge_stages=False):\n",
    "#     stdevs = stage_keyed_task_buckets\\\n",
    "#             .map(lambda (i,v): (i,(float(v) - b_means.value[i])**2)) \\\n",
    "#             .reduceByKey(add) \\\n",
    "#             .map(lambda (i,v): (i,sqrt(v) / float(task_counts_dict.value[i[0]]))) #.cache()\n",
    "#     if merge_stages:\n",
    "#         return stdevs.map(lambda (i,v): (i[1], v)).reduceByKey(add)\n",
    "#     else:\n",
    "#         return stdevs\n",
    "    \n",
    "def get_summary_tasks_for_mpl(f,stage_keyed_tasks, key, driver_comp_time):\n",
    "    '''formats the '''\n",
    "    task_sum_for_mpl = get_f_task_per_stage(f,stage_keyed_tasks, key)\\\n",
    "    .map(lambda (i,v): (tuple([i]), v)).flatMap(flat_map_dict)\\\n",
    "    .map(lambda (i,v): (i[1], v))\\\n",
    "    .reduceByKey(add).collectAsMap()\n",
    "    \n",
    "    #add driver compute time\n",
    "    task_sum_for_mpl.update({'Driver Compute Time': driver_comp_time})\n",
    "\n",
    "        \n",
    "    return task_sum_for_mpl\n",
    "    \n",
    "def get_app_start(log_rdd):\n",
    "    appStart = log_rdd.filter(lambda x: \"SparkListenerApplicationStart\" in x)\\\n",
    "                   .map(lambda x: int(json.loads(x)[\"Timestamp\"])).take(1)[0]\n",
    "    return appStart\n",
    "    \n",
    "    \n",
    "def get_app_end(log_rdd):\n",
    "    \n",
    "    appEnd = log_rdd.filter(lambda x: \"SparkListenerApplicationEnd\" in x)\\\n",
    "                   .map(lambda x: int(json.loads(x)[\"Timestamp\"])).take(1)[0]\n",
    "    return appEnd\n",
    "\n",
    "def make_stage_dict(log_rdd):\n",
    "    stage_info = loglines.filter(lambda x: \"SparkListenerStageCompleted\" in x)\\\n",
    "                     .map(lambda x: json.loads(x)[\"Stage Info\"])\\\n",
    "                     .map(lambda stageEvent: (stageEvent[\"Stage ID\"],\n",
    "                                 stageEvent[\"Stage Name\"],int(stageEvent[\"Submission Time\"]),\n",
    "                                                         int(stageEvent[\"Completion Time\"] )))\n",
    "    stage_dict = sc.broadcast({tup[0] : dict(zip([ 'name','stage_submit_time', 'stage_complete_time'],tup[1:])) for tup in stage_info.collect()})\n",
    "    return stage_dict\n",
    "    \n",
    "    "
   ]
  },
  {
   "cell_type": "code",
   "execution_count": 10,
   "metadata": {
    "collapsed": false
   },
   "outputs": [],
   "source": [
    "event_log = '/project/projectdirs/paralleldb/spark/benchmarks/cx/event_logs/app-20160330000824-0000'\n",
    "#'/project/projectdirs/paralleldb/spark/benchmarks/pca_climate/large-scale-climate/eventLogs/app-20160325035651-0000'\n",
    "#'/project/projectdirs/paralleldb/spark/benchmarks/cx/event_logs/app-20160310010018-0000' \n",
    "#'/project/projectdirs/paralleldb/spark/benchmarks/pca_climate/large-scale-climate/eventLogs/app-20160325050003-0000'\n",
    "#'/project/projectdirs/paralleldb/spark/benchmarks/pca_climate/large-scale-climate/eventLogs/app-20160325050003-0000'\n",
    "algo_name='cx'\n",
    "loglines = sc.textFile(event_log).cache()"
   ]
  },
  {
   "cell_type": "code",
   "execution_count": 11,
   "metadata": {
    "collapsed": false
   },
   "outputs": [],
   "source": [
    "appStart, appEnd = [get_app_start(loglines), get_app_end(loglines)]\n",
    "\n",
    "stage_dict = make_stage_dict(loglines)\n",
    "driver_comp_time = calc_driver_comp_time(stage_dict.value)"
   ]
  },
  {
   "cell_type": "code",
   "execution_count": 12,
   "metadata": {
    "collapsed": false
   },
   "outputs": [],
   "source": [
    "task_info = loglines.filter(lambda x: \"SparkListenerTaskEnd\" in x)\\\n",
    "                    .map(lambda x: json.loads(x))\\\n",
    "                    .map(lambda taskInfo: \n",
    "                         ( \n",
    "                            (taskInfo[\"Stage ID\"],\n",
    "                            int(taskInfo[\"Task Info\"][\"Executor ID\"])),\n",
    "                taskInfo )).map(lambda (i,v): (i,update_task_dict(v, appStart, stage_dict.value)))\\\n",
    "      .map(lambda (i,v): (i,create_compute_bucket(i[0],v,algo_name))).cache() #, stage_dict.value, stage_to_phase_dict.value)))"
   ]
  },
  {
   "cell_type": "markdown",
   "metadata": {},
   "source": [
    "Figure out what to do with the GC Time Stuff"
   ]
  },
  {
   "cell_type": "code",
   "execution_count": 13,
   "metadata": {
    "collapsed": false
   },
   "outputs": [],
   "source": [
    "# flat_task_info = task_info.flatMap(flat_map_dict).cache()\n",
    "# stage_keyed_task_buckets = flat_task_info.map(lambda (i,v): ((i[0], i[2]), v)).cache()\n",
    "#task_counts_dict = sc.broadcast(stage_keyed_task_info.map(lambda (i,v): (i,1)).reduceByKey(add).collectAsMap())"
   ]
  },
  {
   "cell_type": "code",
   "execution_count": 14,
   "metadata": {
    "collapsed": false
   },
   "outputs": [],
   "source": [
    "stage_keyed_task_info = task_info.map(lambda (i,v): (i[0],v))"
   ]
  },
  {
   "cell_type": "code",
   "execution_count": 15,
   "metadata": {
    "collapsed": true
   },
   "outputs": [],
   "source": [
    "%matplotlib inline\n",
    "import matplotlib\n",
    "import numpy as np\n",
    "import matplotlib.pyplot as plt\n",
    "from matplotlib import colors\n",
    "import random\n",
    "plt.rcParams['figure.figsize'] = (10.0, 8.0)"
   ]
  },
  {
   "cell_type": "markdown",
   "metadata": {},
   "source": [
    "#Plot Summary Using Max/Min/Median **TASK** in each Stage"
   ]
  },
  {
   "cell_type": "code",
   "execution_count": 16,
   "metadata": {
    "collapsed": false
   },
   "outputs": [],
   "source": [
    "maxes_for_mpl = get_summary_tasks_for_mpl('max', stage_keyed_task_info,\"Time To Finish From Stage Start\", driver_comp_time)\n",
    "mins_for_mpl = get_summary_tasks_for_mpl('min', stage_keyed_task_info,\"Time To Finish From Stage Start\",driver_comp_time)"
   ]
  },
  {
   "cell_type": "code",
   "execution_count": null,
   "metadata": {
    "collapsed": false
   },
   "outputs": [],
   "source": []
  },
  {
   "cell_type": "code",
   "execution_count": 17,
   "metadata": {
    "collapsed": false
   },
   "outputs": [],
   "source": [
    "medians_for_mpl = get_summary_tasks_for_mpl('median', stage_keyed_task_info,\"Time To Finish From Stage Start\",driver_comp_time)"
   ]
  },
  {
   "cell_type": "code",
   "execution_count": 31,
   "metadata": {
    "collapsed": true
   },
   "outputs": [],
   "source": [
    "keys = [k for  k in mins_for_mpl.keys() if k not in ['Time To Finish From Stage Start', 'Executor Run Time']]"
   ]
  },
  {
   "cell_type": "code",
   "execution_count": 34,
   "metadata": {
    "collapsed": false
   },
   "outputs": [],
   "source": [
    "ordered_keys = ['IO Load Metadata Time','IO Load Matrix Time','Driver Compute Time', 'Task Start Delay',\n",
    "        'Executor Deserialize Time', 'Task Compute Time', 'Shuffle Write Time', 'Fetch Wait Time',\n",
    "                'Result Serialization Time', 'Finalize/Collect','Getting Result Time', 'Task End Overheads Time','Time Waiting Until Stage End' ]"
   ]
  },
  {
   "cell_type": "code",
   "execution_count": 35,
   "metadata": {
    "collapsed": false
   },
   "outputs": [],
   "source": [
    "assert len(set(keys).difference(ordered_keys)) == 0"
   ]
  },
  {
   "cell_type": "code",
   "execution_count": 36,
   "metadata": {
    "collapsed": false
   },
   "outputs": [],
   "source": [
    "maxes_sum = sum([maxes_for_mpl[k] for k in keys if k!= 'Driver Compute Time' and  k!= 'Time Waiting Until Stage End'])"
   ]
  },
  {
   "cell_type": "code",
   "execution_count": 37,
   "metadata": {
    "collapsed": true
   },
   "outputs": [],
   "source": [
    "del k"
   ]
  },
  {
   "cell_type": "code",
   "execution_count": null,
   "metadata": {
    "collapsed": true
   },
   "outputs": [],
   "source": []
  },
  {
   "cell_type": "code",
   "execution_count": 38,
   "metadata": {
    "collapsed": false
   },
   "outputs": [
    {
     "data": {
      "text/plain": [
       "188036.0"
      ]
     },
     "execution_count": 38,
     "metadata": {},
     "output_type": "execute_result"
    }
   ],
   "source": [
    "maxes_sum"
   ]
  },
  {
   "cell_type": "code",
   "execution_count": 39,
   "metadata": {
    "collapsed": false
   },
   "outputs": [
    {
     "data": {
      "text/plain": [
       "{'Driver Compute Time': 372149,\n",
       " 'Executor Deserialize Time': 10026,\n",
       " 'Executor Run Time': 45744,\n",
       " 'Fetch Wait Time': 682,\n",
       " 'Finalize/Collect': 170,\n",
       " 'Getting Result Time': 0,\n",
       " 'IO Load Matrix Time': 2267,\n",
       " 'IO Load Metadata Time': 1026,\n",
       " 'Result Serialization Time': 138,\n",
       " 'Shuffle Write Time': 45.958314,\n",
       " 'Task Compute Time': 41553.041686,\n",
       " 'Task End Overheads Time': 29812,\n",
       " 'Task Start Delay': 102316,\n",
       " 'Time To Finish From Stage Start': 188036,\n",
       " 'Time Waiting Until Stage End': 8}"
      ]
     },
     "execution_count": 39,
     "metadata": {},
     "output_type": "execute_result"
    }
   ],
   "source": [
    "maxes_for_mpl"
   ]
  },
  {
   "cell_type": "code",
   "execution_count": 40,
   "metadata": {
    "collapsed": false
   },
   "outputs": [
    {
     "data": {
      "text/plain": [
       "{'Driver Compute Time': 372149,\n",
       " 'Executor Deserialize Time': 3129,\n",
       " 'Executor Run Time': 34468,\n",
       " 'Fetch Wait Time': 118,\n",
       " 'Finalize/Collect': 167,\n",
       " 'Getting Result Time': 0,\n",
       " 'IO Load Matrix Time': 1544,\n",
       " 'IO Load Metadata Time': 702,\n",
       " 'Result Serialization Time': 134,\n",
       " 'Shuffle Write Time': 60.603588,\n",
       " 'Task Compute Time': 31876.396412000002,\n",
       " 'Task End Overheads Time': 32938,\n",
       " 'Task Start Delay': 56722,\n",
       " 'Time To Finish From Stage Start': 127391,\n",
       " 'Time Waiting Until Stage End': 60653}"
      ]
     },
     "execution_count": 40,
     "metadata": {},
     "output_type": "execute_result"
    }
   ],
   "source": [
    "medians_for_mpl"
   ]
  },
  {
   "cell_type": "code",
   "execution_count": 41,
   "metadata": {
    "collapsed": false
   },
   "outputs": [],
   "source": [
    " assert np.abs(maxes_sum - maxes_for_mpl['Time To Finish From Stage Start']) < 0.1"
   ]
  },
  {
   "cell_type": "code",
   "execution_count": 42,
   "metadata": {
    "collapsed": false
   },
   "outputs": [],
   "source": [
    "total_app_time = maxes_for_mpl['Time To Finish From Stage Start'] + maxes_for_mpl['Driver Compute Time'] + maxes_for_mpl['Time Waiting Until Stage End'] "
   ]
  },
  {
   "cell_type": "code",
   "execution_count": 43,
   "metadata": {
    "collapsed": false
   },
   "outputs": [],
   "source": [
    "assert total_app_time ==  appEnd - appStart"
   ]
  },
  {
   "cell_type": "code",
   "execution_count": 44,
   "metadata": {
    "collapsed": false
   },
   "outputs": [
    {
     "data": {
      "image/png": "[encoded data removed]",
      "text/plain": [
       "<matplotlib.figure.Figure at 0x2aaac300e250>"
      ]
     },
     "metadata": {},
     "output_type": "display_data"
    }
   ],
   "source": [
    "bottom = (0,0,0)\n",
    "bars = []\n",
    "colors_ = colors.cnames.keys()\n",
    "offset = 40\n",
    "patterns = ('-', '+', 'x', '\\\\', '*', '.')\n",
    "fig = plt.figure()\n",
    "ax1 = fig.add_subplot(111)\n",
    "ind = np.arange(3)\n",
    "width = 0.2\n",
    "for i,k in enumerate(ordered_keys):\n",
    "    cur_values = np.asarray([c_mpl[k] / 1000. for c_mpl in [mins_for_mpl, medians_for_mpl, maxes_for_mpl]])\n",
    "    bar = ax1.bar(ind, cur_values,\n",
    "                        width=width,color=colors_[i+offset], bottom=bottom,\n",
    "                         ecolor='k')\n",
    "\n",
    "    bottom = bottom + cur_values\n",
    "\n",
    "ax1.legend(ordered_keys, loc='upper center', bbox_to_anchor=(0.5, -0.1),\n",
    "                  fancybox=True, shadow=True, ncol=5, prop={'size': 10})\n",
    "plt.ylabel('Time(s)')\n",
    "plt.xticks(ind + width/2., ('Min', 'Median', 'Max'))\n",
    "plt.title(\"%s at %s\"% (algo_name, event_log.split('benchmarks/')[1]))\n",
    "plt.show()"
   ]
  },
  {
   "cell_type": "code",
   "execution_count": null,
   "metadata": {
    "collapsed": true
   },
   "outputs": [],
   "source": []
  }
 ],
 "metadata": {
  "kernelspec": {
   "display_name": "Python 2",
   "language": "python",
   "name": "python2"
  },
  "language_info": {
   "codemirror_mode": {
    "name": "ipython",
    "version": 2
   },
   "file_extension": ".py",
   "mimetype": "text/x-python",
   "name": "python",
   "nbconvert_exporter": "python",
   "pygments_lexer": "ipython2",
   "version": "2.7.10"
  }
 },
 "nbformat": 4,
 "nbformat_minor": 0
}
