{
 "cells": [
  {
   "cell_type": "code",
   "execution_count": 86,
   "metadata": {
    "collapsed": true
   },
   "outputs": [],
   "source": [
    "import sys\n",
    "import json\n",
    "import numpy as np\n",
    "from operator import add\n",
    "from math import sqrt\n",
    "# from pyspark import SparkContext\n",
    "# sc = SparkContext(appName=\"ParseEventLog\")\n",
    "from pyspark.sql import SQLContext"
   ]
  },
  {
   "cell_type": "markdown",
   "metadata": {},
   "source": [
    "Goal Here:\n",
    "* **Summary Bar Plot** \n",
    "    * Shows Total Time a job spends in each bucket:\n",
    "            * average task for each stage \n",
    "            * min task for each stage\n",
    "            * median task for each stage\n",
    "            * max task for each stage\n",
    "* **Box and whisker of Task Times in each stage**\n",
    "* **Box and whisker of Buckets for Each Stage**\n",
    "* **Stack plot with buckets and error bars for a task for each stage**\n",
    "* **Average, Median, Min and Max Task for each stage for a few of the nodes over time**"
   ]
  },
  {
   "cell_type": "markdown",
   "metadata": {},
   "source": [
    "**TODO if stage is a count or collect then classify it as io or metadata**\n",
    "**TODO: get median thing working**"
   ]
  },
  {
   "cell_type": "code",
   "execution_count": 87,
   "metadata": {
    "collapsed": false
   },
   "outputs": [],
   "source": [
    "\n",
    "# class ParseLogs(object):\n",
    "#     def __init__(algo, event_log_path):\n",
    "cx_dict = {'treeAggregate at CX.scala:27': 2, 'collect at IndexedRowMatrix.scala:193': 3, 'parquetFile at CX.scala:168': 1, 'count at CX.scala:189': 1,\n",
    "   'count at CX.scala:165':0, 'count at CX.scala:166':0 }\n",
    "\n",
    "\n",
    "pca_dict = {'parquetFile at eofs.scala':0, 'collect at eofs.scala':1, 'count at eofs.scala': 1, 'treeAggregate at eofs.scala': 2, 'collect at IndexedRowMatrix.scala': 3,\n",
    "             'treeReduce at eofs.scala': 2,\n",
    "             }\n",
    "\n",
    "\n",
    "phase_names = sc.broadcast(['IO Load Metadata Time', 'IO Load Matrix Time', 'Task Compute Time', 'Finalize/Collect'])\n",
    "stage_to_phase_dict = sc.broadcast({'cx': cx_dict, 'pca': pca_dict})#, 'randsvd': pca_dict}\n",
    "\n",
    "items_not_to_subtract = ['Launch Time', 'Finish Time', 'Getting Result Time',\n",
    "                         'Executor Deserialize Time','Executor Run Time' ,\"JVM GC Time\", \n",
    "                         \"Result Serialization Time\", 'Task Start Delay', \"Time Waiting Until Stage End\",\n",
    "                         'Time To Finish From Stage Start']\n",
    "\n",
    "\n",
    "\n",
    "#items_not_applicable = ['Launch Time', 'Finish Time', 'Total Task Time']\n",
    "items_to_subtract = ['Shuffle Write Time', 'Fetch Wait Time']#, 'JVM GC Time']\n",
    "\n",
    "\n",
    "min_or_max_dict = {'min': np.argmin, 'max': np.argmax}\n",
    "\n",
    "def update_task_dict(task_info, appStart, stage_dic):\n",
    "    '''Parse task dict for time related keys\n",
    "    Add Total Task Time, Task Start Delay and Time until stage end to dict'''\n",
    "    stage_id = task_info[\"Stage ID\"]\n",
    "    stage_info = get_stage_info(stage_dic, stage_id)\n",
    "    desired_dict = parse_dict(task_info)\n",
    "    desired_dict = add_new_members(task_info, desired_dict, stage_info)\n",
    "    run_tests(desired_dict, stage_info)\n",
    "    desired_dict = delete_items(desired_dict)\n",
    "    return desired_dict\n",
    "\n",
    "\n",
    "def delete_items(desired_dict):\n",
    "    del_keys = [\"Launch Time\", \"Finish Time\"]#, \"JVM GC Time\"] \n",
    "    for k in del_keys:\n",
    "        del desired_dict[k]\n",
    "    return desired_dict\n",
    "        \n",
    "\n",
    "def add_new_members(task_info, desired_dict,stage_info):\n",
    "    stage_name, stage_start, stage_end = stage_info\n",
    "    task_accted_for_time = desired_dict['Executor Run Time'] + desired_dict['Executor Deserialize Time'] + \\\n",
    "                           desired_dict['Result Serialization Time']  + desired_dict['Getting Result Time']\n",
    "    total_task_time = desired_dict['Finish Time'] - desired_dict['Launch Time']\n",
    "    \n",
    "\n",
    "    \n",
    "    desired_dict['Task End Overheads Time'] = total_task_time - task_accted_for_time\n",
    "    desired_dict['Time To Finish From Stage Start'] = desired_dict['Finish Time'] - stage_start\n",
    "    desired_dict['Task Start Delay'] = desired_dict['Launch Time'] - stage_start\n",
    "    \n",
    "#     if stage_end < desired_dict['Finish Time']:\n",
    "     \n",
    "#             print \"Stage end is %d task finish time is %d\" % (stage_end, desired_dict['Finish Time'])\n",
    "#             print task_info[\"Stage ID\"], task_info[\"Task Info\"][\"Speculative\"]\n",
    "        \n",
    "    desired_dict['Time Waiting Until Stage End'] = stage_end - desired_dict['Finish Time']\n",
    "    \n",
    "    return desired_dict\n",
    "    \n",
    "def run_tests(desired_dict, stage_info):\n",
    "    #assert False\n",
    "    stage_name, stage_start, stage_end = stage_info\n",
    "    total_task_time = desired_dict['Finish Time'] - desired_dict['Launch Time']\n",
    "    assert desired_dict['Task Start Delay'] +  total_task_time == desired_dict['Time To Finish From Stage Start']\n",
    "    assert desired_dict['Time To Finish From Stage Start'] + desired_dict['Time Waiting Until Stage End'] == stage_end - stage_start\n",
    "    sum_ = 0\n",
    "    for k in ['Executor Run Time',\n",
    "              'Getting Result Time',\n",
    "              'Driver Compute Time',\n",
    "              'Task Start Delay',\n",
    "              'Result Serialization Time',\n",
    "              'Task End Overheads Time',\n",
    "              'Executor Deserialize Time']:\n",
    "\n",
    "        if k in desired_dict:\n",
    "            sum_ += desired_dict[k]\n",
    "        \n",
    "    assert sum_ == desired_dict['Time To Finish From Stage Start']\n",
    "#     for k, v in desired_dict.iteritems():\n",
    "#         assert v >= 0, \"Oh no key %s is %d\" % (k,v)\n",
    "    \n",
    "def get_stage_info(stage_dic, stage_id):\n",
    "    stage_name = stage_dic[stage_id]['name']\n",
    "    stage_start = stage_dic[stage_id]['stage_submit_time']\n",
    "    stage_end =  stage_dic[stage_id]['stage_complete_time']\n",
    "    return stage_name, stage_start, stage_end\n",
    "    \n",
    "def parse_dict(task_info):\n",
    "    '''get all time related k,value pairs in the task dict from the json event logs\n",
    "    this is recurtsive b/c we parse dicts inside dicts'''\n",
    "    desired_dict={}\n",
    "    for key,value in task_info.iteritems():\n",
    "        if \"Time\" in str(key):\n",
    "            print str(key)\n",
    "            #if \"Launch Time\" in key or \"Finish Time\" in key:\n",
    "                #value = value - appStart\n",
    "            #convert nanoseconds to milliseconds\n",
    "            if \"Shuffle Write Time\" in key:\n",
    "                value /= 1000000.0\n",
    "            desired_dict[str(key)] = value\n",
    "        if isinstance(value,dict):\n",
    "            d = parse_dict(value)\n",
    "            desired_dict.update(d)\n",
    "   \n",
    "\n",
    "\n",
    "    return desired_dict\n",
    "\n",
    "def flat_map_dict(key_tuple_plus_dic):\n",
    "    '''returns a list of nested tuples, where each tuple is \n",
    "    ((key_tuple[0], key_tuple[1],...key_tuple[n], dic_key[i]), value[i])'''\n",
    "    key_tuple, dic = key_tuple_plus_dic\n",
    "    return [(tuple(list(key_tuple) + [k]),v) for k,v in dic.iteritems()]\n",
    "\n",
    "def create_compute_bucket(stage_id,dic, algo): #, stage_dic):\n",
    "    stage_name = str(stage_dict.value[stage_id]['name']) #.split(':')[0]\n",
    "    if algo == 'cx':\n",
    "        compute_bucket_id = stage_to_phase_dict.value[algo][stage_name]\n",
    "    elif algo == 'pca':\n",
    "        compute_bucket_id = stage_to_phase_dict.value[algo][stage_name.split(':')[0]]\n",
    "    compute_bucket_name = phase_names.value[compute_bucket_id]\n",
    "\n",
    "    dic[compute_bucket_name] = dic['Executor Run Time']\n",
    "    for k in dic.keys():\n",
    "        if k in items_to_subtract: #and k != compute_bucket_name :\n",
    "            dic[compute_bucket_name] -= dic[k]\n",
    "    #dic['subtracts']=subtracts\n",
    "    del dic['Executor Run Time']\n",
    "    return dic\n",
    "\n",
    "    \n",
    "def calc_driver_comp_time(stage_dict):\n",
    "    start_finish_times = [(stage_dict[k]['stage_submit_time'], stage_dict[k]['stage_complete_time']) for k in range(len(stage_dict.keys())) ]\n",
    "    driver_comp_times = [start_finish_times[i][0] - start_finish_times[i-1][1] for i,t in enumerate(start_finish_times) ]\n",
    "    driver_comp_times[0] = start_finish_times[0][0] - appStart\n",
    "    driver_comp_times.append(appEnd - start_finish_times[-1][1])\n",
    "    driver_comp_dict = dict(zip(range(-1,len(start_finish_times) + 1),driver_comp_times))\n",
    "    total_driver_comp_time = sum(driver_comp_times)\n",
    "    return total_driver_comp_time, driver_comp_dict\n",
    "\n",
    "def get_f_task_per_stage(f,stage_keyed_task_info, key):\n",
    "    if f == 'min':\n",
    "        ret = stage_keyed_task_info.reduceByKey(lambda v1,v2: v1 if v1[key] < v2[key] else v2)\n",
    "    elif f == 'max':\n",
    "        ret = stage_keyed_task_info.reduceByKey(lambda v1,v2: v1 if v1[key] > v2[key] else v2)\n",
    "    #TODO: make this work if executor is in key too\n",
    "    elif f == 'median':\n",
    "        '''this has some weird hacks: \n",
    "            1.collects all the values that fit the key for each stage\n",
    "            2. locally computes median \n",
    "                (but appends an extra value to any lists that are even in lenght, so median will not be an avg of two )\n",
    "            3. Finds all tasks for a given stage that have the value that matches median for that stage (ie if key is Total Task Time \n",
    "            and the median total task time for stage 4 is 50 then gets the task_info dicts for all tasks in stage 4 with Total Task time of 50)\n",
    "            4. Get rid of duplicates by picking at random one of the median tasks (TODO: get avg or something)\n",
    "            '''   \n",
    "        task_dict = stage_keyed_task_info.map(lambda (i,v): (i,v[key])).groupByKey().collectAsMap()\n",
    "        stage_and_key_keyed_task_info = stage_keyed_task_info.map(lambda (i,v): ((i,v[key]),v))\n",
    "        #duplicates max value in list to end to make all lists odd\n",
    "        list_dict ={stage:list(task_value_iter) + ([max(list(task_value_iter))] if len(list(task_value_iter)) % 2 == 0 else []) for stage,task_value_iter in task_dict.iteritems()}\n",
    "        med_dict = {k:int(np.median(v)) for k,v in list_dict.iteritems()}\n",
    "        ret = stage_and_key_keyed_task_info\\\n",
    "            .map(lambda ((stage,median_v_key),v): (stage,med_dict[stage], median_v_key, v)).filter(lambda (stage,med,val,v): med==val)\\\n",
    "            .map(lambda (stage,med,val,v): (stage,v))\\\n",
    "            .reduceByKey(lambda v1,v2: v1)\n",
    "    else:\n",
    "        assert False, \"must specify miin, max or median not %s\" % f\n",
    "    return ret\n",
    "\n",
    "def get_f_buckets_per_stage(f,stage_keyed_task_buckets):\n",
    "    '''returns rdd of the min, mean, max or min bucket time for each stage'''\n",
    "    if f == \"mean\":\n",
    "        ret = stage_keyed_task_buckets.reduceByKey(add)\\\n",
    "                                      .map(lambda (i,v): (i,float(v) / task_counts_dict.value[i[0]] ))\n",
    "    elif f == 'min':\n",
    "        ret = stage_keyed_task_buckets \\\n",
    "                .reduceByKey(min)\n",
    "    elif f == 'max':\n",
    "        ret = stage_keyed_task_buckets \\\n",
    "                .reduceByKey(max)\n",
    "    elif f == 'median':\n",
    "        ret = stage_keyed_task_buckets \\\n",
    "            .groupByKey().map(lambda (i,v): (i, np.median(list(v))))\n",
    "    #elif f == 'stdev':\n",
    "        \n",
    "    return ret\n",
    "\n",
    "\n",
    "\n",
    "def get_stdev_buckets_per_stage(stage_keyed_task_buckets, mean_dict, merge_stages=False):\n",
    "    stdevs = stage_keyed_task_buckets\\\n",
    "            .map(lambda (i,v): (i,(float(v) - b_means.value[i])**2)) \\\n",
    "            .reduceByKey(add) \\\n",
    "            .map(lambda (i,v): (i,sqrt(v) / float(task_counts_dict.value[i[0]]))) #.cache()\n",
    "\n",
    "    return stdevs\n",
    "\n",
    "\n",
    "def get_summary_tasks_for_each_executor(f, stage_and_exec_keyed_tasks, key):\n",
    "    if f == 'median':\n",
    "        raise NotImplementedError\n",
    "    \n",
    "    f_tasks_for_each_stage_exec = get_f_task_per_stage(f,stage_and_exec_keyed_tasks, key)\n",
    "    return f_tasks_for_each_stage_exec\n",
    "\n",
    "def get_summary_tasks_for_mpl(f,stage_keyed_tasks, key, driver_comp_time):\n",
    "    '''formats the '''\n",
    "    task_sum_for_mpl = get_f_task_per_stage(f,stage_keyed_tasks, key)\\\n",
    "    .map(lambda (i,v): (tuple([i]), v)).flatMap(flat_map_dict)\\\n",
    "    .map(lambda (i,v): (i[1], v))\\\n",
    "    .reduceByKey(add).collectAsMap()\n",
    "    \n",
    "    #add driver compute time\n",
    "    task_sum_for_mpl.update({'Driver Compute Time': driver_comp_time})\n",
    "\n",
    "        \n",
    "    return task_sum_for_mpl\n",
    "\n",
    "def get_summary_buckets_for_mpl(f, stage_keyed_task_buckets, driver_comp_time):\n",
    "    f_buckets_per_stage = get_f_buckets_per_stage(f,stage_keyed_task_buckets)\n",
    "    bucket_sum_for_mpl = f_buckets_per_stage.map(lambda (i,v): (i[1], v)).reduceByKey(add).reduceByKey(add).collectAsMap()\n",
    "    \n",
    "    bucket_sum_for_mpl.update({'Driver Compute Time': driver_comp_time})\n",
    "    \n",
    "    return bucket_sum_for_mpl\n",
    "    \n",
    "def get_app_start(log_rdd):\n",
    "    appStart = log_rdd.filter(lambda x: \"SparkListenerApplicationStart\" in x)\\\n",
    "                   .map(lambda x: int(json.loads(x)[\"Timestamp\"])).take(1)[0]\n",
    "    return appStart\n",
    "    \n",
    "    \n",
    "def get_app_end(log_rdd):\n",
    "    \n",
    "    appEnd = log_rdd.filter(lambda x: \"SparkListenerApplicationEnd\" in x)\\\n",
    "                   .map(lambda x: int(json.loads(x)[\"Timestamp\"])).take(1)[0]\n",
    "    return appEnd\n",
    "\n",
    "def make_stage_dict(log_rdd):\n",
    "    stage_info = loglines.filter(lambda x: \"SparkListenerStageCompleted\" in x)\\\n",
    "                     .map(lambda x: json.loads(x)[\"Stage Info\"])\\\n",
    "                     .map(lambda stageEvent: (stageEvent[\"Stage ID\"],\n",
    "                                 stageEvent[\"Stage Name\"],int(stageEvent[\"Submission Time\"]),\n",
    "                                                         int(stageEvent[\"Completion Time\"] )))\n",
    "    stage_dict = sc.broadcast({tup[0] : dict(zip([ 'name','stage_submit_time', 'stage_complete_time'],tup[1:])) for tup in stage_info.collect()})\n",
    "    return stage_dict\n",
    "    \n",
    "    "
   ]
  },
  {
   "cell_type": "code",
   "execution_count": 88,
   "metadata": {
    "collapsed": false
   },
   "outputs": [],
   "source": [
    "event_log = '/project/projectdirs/paralleldb/spark/benchmarks/cx/event_logs/app-20160401161944-0000'\n",
    "#'/project/projectdirs/paralleldb/spark/benchmarks/cx/event_logs/app-20160330015151-0000' #'/project/projectdirs/paralleldb/spark/benchmarks/pca_climate/large-scale-climate/eventLogs/app-20160325035651-0000'#'/project/projectdirs/paralleldb/spark/benchmarks/pca_climate/large-scale-climate/eventLogs/app-20160330044137-0000'\n",
    "#'/project/projectdirs/paralleldb/spark/benchmarks/cx/event_logs/app-20160330015151-0000'\n",
    "#'/project/projectdirs/paralleldb/spark/benchmarks/cx/event_logs/app-20160330000824-0000'\n",
    "\n",
    "#'/project/projectdirs/paralleldb/spark/benchmarks/cx/event_logs/app-20160310010018-0000' \n",
    "#'/project/projectdirs/paralleldb/spark/benchmarks/pca_climate/large-scale-climate/eventLogs/app-20160325050003-0000'\n",
    "#'/project/projectdirs/paralleldb/spark/benchmarks/pca_climate/large-scale-climate/eventLogs/app-20160325050003-0000'\n",
    "algo_name='cx'\n",
    "loglines = sc.textFile(event_log).cache()"
   ]
  },
  {
   "cell_type": "code",
   "execution_count": 89,
   "metadata": {
    "collapsed": false
   },
   "outputs": [],
   "source": [
    "appStart, appEnd = [get_app_start(loglines), get_app_end(loglines)]\n",
    "\n",
    "stage_dict = make_stage_dict(loglines)\n",
    "driver_comp_time, driver_comp_dict = calc_driver_comp_time(stage_dict.value)"
   ]
  },
  {
   "cell_type": "code",
   "execution_count": 90,
   "metadata": {
    "collapsed": false
   },
   "outputs": [],
   "source": [
    "#aka stage and executor keyed tasks\n",
    "task_info = loglines.filter(lambda x: \"SparkListenerTaskEnd\" in x)\\\n",
    "                    .map(lambda x: json.loads(x))\\\n",
    "                    .map(lambda taskInfo: \n",
    "                         ( \n",
    "                            (taskInfo[\"Stage ID\"],\n",
    "                            int(taskInfo[\"Task Info\"][\"Executor ID\"])),\n",
    "                taskInfo )).map(lambda (i,v): (i,update_task_dict(v, appStart, stage_dict.value)))\\\n",
    "      .map(lambda (i,v): (i,create_compute_bucket(i[0],v,algo_name))).cache() #, stage_dict.value, stage_to_phase_dict.value)))"
   ]
  },
  {
   "cell_type": "markdown",
   "metadata": {},
   "source": [
    "Figure out what to do with the GC Time Stuff"
   ]
  },
  {
   "cell_type": "code",
   "execution_count": 91,
   "metadata": {
    "collapsed": false
   },
   "outputs": [],
   "source": [
    "#aka stage and executor keyed buckets\n",
    "flat_task_info = task_info.flatMap(flat_map_dict).cache()\n",
    "\n",
    "stage_keyed_task_buckets = flat_task_info.map(lambda (i,v): ((i[0], i[2]), v)).cache()\n"
   ]
  },
  {
   "cell_type": "code",
   "execution_count": 92,
   "metadata": {
    "collapsed": false
   },
   "outputs": [],
   "source": [
    "stage_keyed_task_info = task_info.map(lambda (i,v): (i[0],v))\n",
    "task_counts_dict = sc.broadcast(stage_keyed_task_info.map(lambda (i,v): (i,1)).reduceByKey(add).collectAsMap())"
   ]
  },
  {
   "cell_type": "code",
   "execution_count": 93,
   "metadata": {
    "collapsed": false
   },
   "outputs": [],
   "source": [
    "%matplotlib inline\n",
    "import matplotlib\n",
    "import numpy as np\n",
    "import matplotlib.pyplot as plt\n",
    "from matplotlib import colors\n",
    "import random\n",
    "plt.rcParams['figure.figsize'] = (10.0, 8.0)"
   ]
  },
  {
   "cell_type": "markdown",
   "metadata": {},
   "source": [
    "#Plot Summary Using Max/Min/Median **TASK** in each Stage"
   ]
  },
  {
   "cell_type": "code",
   "execution_count": 94,
   "metadata": {
    "collapsed": false
   },
   "outputs": [],
   "source": [
    "maxes_for_mpl = get_summary_tasks_for_mpl('max', stage_keyed_task_info,\"Time To Finish From Stage Start\", driver_comp_time)\n",
    "mins_for_mpl = get_summary_tasks_for_mpl('min', stage_keyed_task_info,\"Time To Finish From Stage Start\",driver_comp_time)"
   ]
  },
  {
   "cell_type": "code",
   "execution_count": 95,
   "metadata": {
    "collapsed": false
   },
   "outputs": [],
   "source": [
    "medians_for_mpl = get_summary_tasks_for_mpl('median', stage_keyed_task_info,\"Time To Finish From Stage Start\",driver_comp_time)"
   ]
  },
  {
   "cell_type": "code",
   "execution_count": 96,
   "metadata": {
    "collapsed": true
   },
   "outputs": [],
   "source": [
    "keys = [k for  k in mins_for_mpl.keys() if k not in ['Time To Finish From Stage Start', 'Executor Run Time']]"
   ]
  },
  {
   "cell_type": "code",
   "execution_count": 97,
   "metadata": {
    "collapsed": false
   },
   "outputs": [],
   "source": [
    "medians_for_mpl;"
   ]
  },
  {
   "cell_type": "code",
   "execution_count": 98,
   "metadata": {
    "collapsed": false
   },
   "outputs": [],
   "source": [
    "ordered_keys = ['IO Load Metadata Time','IO Load Matrix Time','Driver Compute Time', 'Task Start Delay',\n",
    "        'Executor Deserialize Time','JVM GC Time', 'Task Compute Time', 'Shuffle Write Time', 'Fetch Wait Time',\n",
    "                'Result Serialization Time', 'Finalize/Collect','Getting Result Time', 'Task End Overheads Time']#],'Time Waiting Until Stage End' ]"
   ]
  },
  {
   "cell_type": "code",
   "execution_count": 99,
   "metadata": {
    "collapsed": false
   },
   "outputs": [
    {
     "data": {
      "text/plain": [
       "['Driver Compute Time',\n",
       " 'Time Waiting Until Stage End',\n",
       " 'Result Serialization Time',\n",
       " 'IO Load Metadata Time',\n",
       " 'Finalize/Collect',\n",
       " 'Task Compute Time',\n",
       " 'Shuffle Write Time',\n",
       " 'Task End Overheads Time',\n",
       " 'Send Result To Driver Time',\n",
       " 'Executor Deserialize Time',\n",
       " 'Task Start Delay',\n",
       " 'JVM GC Time',\n",
       " 'Fetch Wait Time',\n",
       " 'IO Load Matrix Time',\n",
       " 'Getting Result Time']"
      ]
     },
     "execution_count": 99,
     "metadata": {},
     "output_type": "execute_result"
    }
   ],
   "source": [
    "keys"
   ]
  },
  {
   "cell_type": "code",
   "execution_count": 100,
   "metadata": {
    "collapsed": false
   },
   "outputs": [
    {
     "ename": "AssertionError",
     "evalue": "",
     "output_type": "error",
     "traceback": [
      "\u001b[1;31m---------------------------------------------------------------------------\u001b[0m",
      "\u001b[1;31mAssertionError\u001b[0m                            Traceback (most recent call last)",
      "\u001b[1;32m<ipython-input-100-9179031aba17>\u001b[0m in \u001b[0;36m<module>\u001b[1;34m()\u001b[0m\n\u001b[1;32m----> 1\u001b[1;33m \u001b[1;32massert\u001b[0m \u001b[0mlen\u001b[0m\u001b[1;33m(\u001b[0m\u001b[0mset\u001b[0m\u001b[1;33m(\u001b[0m\u001b[0mkeys\u001b[0m\u001b[1;33m)\u001b[0m\u001b[1;33m.\u001b[0m\u001b[0mdifference\u001b[0m\u001b[1;33m(\u001b[0m\u001b[0mordered_keys\u001b[0m\u001b[1;33m)\u001b[0m\u001b[1;33m)\u001b[0m \u001b[1;33m==\u001b[0m \u001b[1;36m0\u001b[0m\u001b[1;33m\u001b[0m\u001b[0m\n\u001b[0m",
      "\u001b[1;31mAssertionError\u001b[0m: "
     ]
    }
   ],
   "source": [
    "assert len(set(keys).difference(ordered_keys)) == 0"
   ]
  },
  {
   "cell_type": "code",
   "execution_count": 15,
   "metadata": {
    "collapsed": false
   },
   "outputs": [
    {
     "data": {
      "text/plain": [
       "['Driver Compute Time',\n",
       " 'Time Waiting Until Stage End',\n",
       " 'Getting Result Time',\n",
       " 'IO Load Metadata Time',\n",
       " 'Finalize/Collect',\n",
       " 'Task Compute Time',\n",
       " 'Shuffle Write Time',\n",
       " 'Task End Overheads Time',\n",
       " 'Result Serialization Time',\n",
       " 'Executor Deserialize Time',\n",
       " 'Task Start Delay',\n",
       " 'Fetch Wait Time',\n",
       " 'IO Load Matrix Time']"
      ]
     },
     "execution_count": 15,
     "metadata": {},
     "output_type": "execute_result"
    }
   ],
   "source": [
    "keys"
   ]
  },
  {
   "cell_type": "code",
   "execution_count": 101,
   "metadata": {
    "collapsed": false
   },
   "outputs": [],
   "source": [
    "maxes_sum = sum([maxes_for_mpl[k] for k in keys if k!= 'Driver Compute Time' and  k!= 'Time Waiting Until Stage End'])"
   ]
  },
  {
   "cell_type": "code",
   "execution_count": 81,
   "metadata": {
    "collapsed": true
   },
   "outputs": [],
   "source": [
    "del k"
   ]
  },
  {
   "cell_type": "code",
   "execution_count": null,
   "metadata": {
    "collapsed": true
   },
   "outputs": [],
   "source": []
  },
  {
   "cell_type": "code",
   "execution_count": 102,
   "metadata": {
    "collapsed": false
   },
   "outputs": [
    {
     "data": {
      "text/plain": [
       "2603.0"
      ]
     },
     "execution_count": 102,
     "metadata": {},
     "output_type": "execute_result"
    }
   ],
   "source": [
    "maxes_sum - maxes_for_mpl['Time To Finish From Stage Start']"
   ]
  },
  {
   "cell_type": "code",
   "execution_count": 103,
   "metadata": {
    "collapsed": false
   },
   "outputs": [
    {
     "data": {
      "text/plain": [
       "{'Driver Compute Time': 255961,\n",
       " 'Executor Deserialize Time': 7037,\n",
       " 'Fetch Wait Time': 98167,\n",
       " 'Finalize/Collect': 201,\n",
       " 'Getting Result Time': 0,\n",
       " 'IO Load Matrix Time': 3375,\n",
       " 'IO Load Metadata Time': 3408,\n",
       " 'JVM GC Time': 2603,\n",
       " 'Result Serialization Time': 142,\n",
       " 'Send Result To Driver Time': 0,\n",
       " 'Shuffle Write Time': 124.526088,\n",
       " 'Task Compute Time': 65926.47391199999,\n",
       " 'Task End Overheads Time': 13715,\n",
       " 'Task Start Delay': 434012,\n",
       " 'Time To Finish From Stage Start': 626108,\n",
       " 'Time Waiting Until Stage End': 19}"
      ]
     },
     "execution_count": 103,
     "metadata": {},
     "output_type": "execute_result"
    }
   ],
   "source": [
    "maxes_for_mpl"
   ]
  },
  {
   "cell_type": "code",
   "execution_count": 40,
   "metadata": {
    "collapsed": false
   },
   "outputs": [],
   "source": [
    "medians_for_mpl;"
   ]
  },
  {
   "cell_type": "code",
   "execution_count": 39,
   "metadata": {
    "collapsed": false
   },
   "outputs": [],
   "source": [
    "mins_for_mpl;"
   ]
  },
  {
   "cell_type": "code",
   "execution_count": 37,
   "metadata": {
    "collapsed": false
   },
   "outputs": [
    {
     "ename": "AssertionError",
     "evalue": "",
     "output_type": "error",
     "traceback": [
      "\u001b[1;31m---------------------------------------------------------------------------\u001b[0m",
      "\u001b[1;31mAssertionError\u001b[0m                            Traceback (most recent call last)",
      "\u001b[1;32m<ipython-input-37-3a1fd7e9721a>\u001b[0m in \u001b[0;36m<module>\u001b[1;34m()\u001b[0m\n\u001b[1;32m----> 1\u001b[1;33m \u001b[1;32massert\u001b[0m \u001b[0mnp\u001b[0m\u001b[1;33m.\u001b[0m\u001b[0mabs\u001b[0m\u001b[1;33m(\u001b[0m\u001b[0mmaxes_sum\u001b[0m \u001b[1;33m-\u001b[0m \u001b[0mmaxes_for_mpl\u001b[0m\u001b[1;33m[\u001b[0m\u001b[1;34m'Time To Finish From Stage Start'\u001b[0m\u001b[1;33m]\u001b[0m\u001b[1;33m)\u001b[0m \u001b[1;33m<\u001b[0m \u001b[1;36m0.1\u001b[0m\u001b[1;33m\u001b[0m\u001b[0m\n\u001b[0m",
      "\u001b[1;31mAssertionError\u001b[0m: "
     ]
    }
   ],
   "source": [
    " assert np.abs(maxes_sum - maxes_for_mpl['Time To Finish From Stage Start']) < 0.1"
   ]
  },
  {
   "cell_type": "code",
   "execution_count": 87,
   "metadata": {
    "collapsed": false
   },
   "outputs": [],
   "source": [
    "total_app_time = maxes_for_mpl['Time To Finish From Stage Start'] + maxes_for_mpl['Driver Compute Time'] + maxes_for_mpl['Time Waiting Until Stage End'] "
   ]
  },
  {
   "cell_type": "code",
   "execution_count": 88,
   "metadata": {
    "collapsed": false
   },
   "outputs": [],
   "source": [
    "assert total_app_time ==  appEnd - appStart"
   ]
  },
  {
   "cell_type": "code",
   "execution_count": 37,
   "metadata": {
    "collapsed": false
   },
   "outputs": [
    {
     "data": {
      "image/png": "[encoded data removed]",
      "text/plain": [
       "<matplotlib.figure.Figure at 0x2aaac9feaf90>"
      ]
     },
     "metadata": {},
     "output_type": "display_data"
    }
   ],
   "source": [
    "bottom = (0,0,0)\n",
    "bars = []\n",
    "colors_ = colors.cnames.keys()\n",
    "offset = 40\n",
    "patterns = ('-', '+', 'x', '\\\\', '*', '.')\n",
    "fig = plt.figure()\n",
    "ax1 = fig.add_subplot(111)\n",
    "ind = np.arange(3)\n",
    "width = 0.2\n",
    "for i,k in enumerate(ordered_keys):\n",
    "    cur_values = np.asarray([c_mpl[k] / 1000. for c_mpl in [mins_for_mpl, medians_for_mpl, maxes_for_mpl]])\n",
    "    bar = ax1.bar(ind, cur_values,\n",
    "                        width=width,color=colors_[i+offset], bottom=bottom,\n",
    "                         ecolor='k')\n",
    "\n",
    "    bottom = bottom + cur_values\n",
    "\n",
    "ax1.legend(ordered_keys, loc='upper center', bbox_to_anchor=(0.5, -0.1),\n",
    "                  fancybox=True, shadow=True, ncol=5, prop={'size': 10})\n",
    "plt.ylabel('Time(s)')\n",
    "plt.xticks(ind + width/2., ('Min', 'Median', 'Max'))\n",
    "plt.title(\"%s at %s\"% (algo_name, event_log.split('benchmarks/')[1]))\n",
    "plt.show()"
   ]
  },
  {
   "cell_type": "markdown",
   "metadata": {
    "collapsed": true
   },
   "source": [
    "#Plot Summary Using Max/Min/Median **Bucket** (Task Category) in each Stage\n"
   ]
  },
  {
   "cell_type": "code",
   "execution_count": 38,
   "metadata": {
    "collapsed": true
   },
   "outputs": [],
   "source": [
    "minb, maxb, medianb, meanb = [get_summary_buckets_for_mpl(f,stage_keyed_task_buckets, driver_comp_time) for\n",
    "                              f in ['min', 'max', 'median', 'mean']]"
   ]
  },
  {
   "cell_type": "code",
   "execution_count": 39,
   "metadata": {
    "collapsed": true
   },
   "outputs": [],
   "source": [
    "keys = [k for  k in minb.keys() if k not in ['Time To Finish From Stage Start', 'Executor Run Time', 'Time Waiting Until Stage End']]"
   ]
  },
  {
   "cell_type": "code",
   "execution_count": 40,
   "metadata": {
    "collapsed": true
   },
   "outputs": [],
   "source": [
    "ordered_keys = ['IO Load Metadata Time','IO Load Matrix Time','Driver Compute Time', 'Task Start Delay',\n",
    "        'Executor Deserialize Time', 'Task Compute Time', 'Shuffle Write Time', 'Fetch Wait Time',\n",
    "                'Result Serialization Time', 'Finalize/Collect','Getting Result Time', 'Task End Overheads Time']"
   ]
  },
  {
   "cell_type": "code",
   "execution_count": 45,
   "metadata": {
    "collapsed": false
   },
   "outputs": [
    {
     "data": {
      "image/png": "[encoded data removed]",
      "text/plain": [
       "<matplotlib.figure.Figure at 0x2aaac9486b90>"
      ]
     },
     "metadata": {},
     "output_type": "display_data"
    }
   ],
   "source": [
    "bottom = (0,0,0, 0)\n",
    "bars = []\n",
    "colors_ = colors.cnames.keys()\n",
    "offset = 41\n",
    "patterns = ('-', '+', 'x', '\\\\', '*', '.')\n",
    "fig = plt.figure()\n",
    "ax1 = fig.add_subplot(111)\n",
    "ind = np.arange(4)\n",
    "width = 0.2\n",
    "for i,k in enumerate(ordered_keys):\n",
    "    cur_values = np.asarray([c_mpl[k] / 1000. for c_mpl in [minb, medianb, meanb, maxb]])\n",
    "    bar = ax1.bar(ind, cur_values,\n",
    "                        width=width,color=colors_[i+offset], bottom=bottom,\n",
    "                         ecolor='k')\n",
    "\n",
    "    bottom = bottom + cur_values\n",
    "\n",
    "ax1.legend(ordered_keys, loc='upper center', bbox_to_anchor=(0.5, -0.1),\n",
    "                  fancybox=True, shadow=True, ncol=5, prop={'size': 10})\n",
    "plt.ylabel('Time(s)')\n",
    "plt.xticks(ind + width/2., ('Min', 'Median','Mean', 'Max'))\n",
    "plt.title(\"%s at %s buckets\"% (algo_name, event_log.split('benchmarks/')[1]))\n",
    "plt.show()"
   ]
  },
  {
   "cell_type": "markdown",
   "metadata": {
    "collapsed": true
   },
   "source": [
    "#Stage by Stage, Executor by Executor Spark Plots"
   ]
  },
  {
   "cell_type": "code",
   "execution_count": 9,
   "metadata": {
    "collapsed": true
   },
   "outputs": [],
   "source": [
    "stage_and_exec_keyed_tasks = task_info"
   ]
  },
  {
   "cell_type": "code",
   "execution_count": 10,
   "metadata": {
    "collapsed": false
   },
   "outputs": [],
   "source": [
    "mine, maxe = [get_summary_tasks_for_each_executor(f,stage_and_exec_keyed_tasks, 'Time To Finish From Stage Start') \n",
    "              for f in ['min', 'max']]"
   ]
  },
  {
   "cell_type": "code",
   "execution_count": 11,
   "metadata": {
    "collapsed": false
   },
   "outputs": [],
   "source": [
    "mine = mine.filter(lambda ((stage,execu), task): execu == 86).collectAsMap()"
   ]
  },
  {
   "cell_type": "code",
   "execution_count": null,
   "metadata": {
    "collapsed": false
   },
   "outputs": [],
   "source": []
  },
  {
   "cell_type": "code",
   "execution_count": 13,
   "metadata": {
    "collapsed": false
   },
   "outputs": [],
   "source": [
    "maxe = maxe.filter(lambda ((stage,execu), task): execu == 86).collectAsMap()"
   ]
  },
  {
   "cell_type": "code",
   "execution_count": null,
   "metadata": {
    "collapsed": false
   },
   "outputs": [],
   "source": []
  },
  {
   "cell_type": "code",
   "execution_count": 14,
   "metadata": {
    "collapsed": true
   },
   "outputs": [],
   "source": [
    "ordered_keys = ['IO Load Metadata Time','IO Load Matrix Time', 'Task Start Delay',\n",
    "        'Executor Deserialize Time', 'Task Compute Time', 'Shuffle Write Time', 'Fetch Wait Time',\n",
    "                'Result Serialization Time', 'Finalize/Collect','Getting Result Time', 'Task End Overheads Time']"
   ]
  },
  {
   "cell_type": "code",
   "execution_count": null,
   "metadata": {
    "collapsed": true
   },
   "outputs": [],
   "source": []
  },
  {
   "cell_type": "code",
   "execution_count": 24,
   "metadata": {
    "collapsed": false
   },
   "outputs": [
    {
     "data": {
      "image/png": "[encoded data removed]",
      "text/plain": [
       "<matplotlib.figure.Figure at 0x2aaac966ff50>"
      ]
     },
     "metadata": {},
     "output_type": "display_data"
    }
   ],
   "source": [
    "left = (0)\n",
    "bars = []\n",
    "colors_ = colors.cnames.keys()\n",
    "offset = 41\n",
    "offset2=105\n",
    "#patterns = ('-', '+', 'x', '\\\\', '*', '.')\n",
    "fig = plt.figure()\n",
    "ax1 = fig.add_subplot(111)\n",
    "ind = np.arange(1)\n",
    "height = 0.2\n",
    "stage_barrier = 0.2\n",
    "for j, (stage,execu) in enumerate(sorted(mine.keys())):\n",
    "    cur_values = np.asarray( [driver_comp_dict[stage-1]/1000.])\n",
    "    bar = ax1.barh((1), cur_values,\n",
    "                            height=height,color=colors_[offset2], left=left,\n",
    "                             ecolor='k')\n",
    "\n",
    "    left = left + cur_values\n",
    "    bar = ax1.barh((1), cur_values,\n",
    "                            height=height,color=colors_[offset2], left=left,\n",
    "                             ecolor='k') \n",
    "    for i,k in enumerate(ordered_keys):\n",
    "        \n",
    "        if k not in maxe[(stage,execu)]:\n",
    "                maxe[(stage,execu)][k] = 0.0\n",
    "        \n",
    "        cur_values = np.asarray([c_mpl[k] / 1000. for c_mpl in [ maxe[(stage,execu)]]])\n",
    "      \n",
    "        bar = ax1.barh(ind, cur_values,\n",
    "                            height=height,color=colors_[i+offset], left=left,\n",
    "                             ecolor='k')\n",
    "\n",
    "        left = left + cur_values \n",
    "\n",
    "cur_values = np.asarray( [driver_comp_dict[len(driver_comp_dict.keys()) -2]/1000.])\n",
    "bar = ax1.barh((1), cur_values,\n",
    "                        height=height,color=colors_[offset2], left=left,\n",
    "                         ecolor='k')\n",
    "\n",
    "#left = left + cur_values       \n",
    "ax1.legend(ordered_keys, loc='upper center', bbox_to_anchor=(0.5, -0.1),\n",
    "                  fancybox=True, shadow=True, ncol=5, prop={'size': 10})\n",
    "plt.xlabel('Time(s)')\n",
    "plt.yticks(ind + height/2., ('Min', 'Max'))\n",
    "plt.title(\"%s at %s buckets\"% (algo_name, event_log.split('benchmarks/')[1]))\n",
    "plt.show()"
   ]
  },
  {
   "cell_type": "code",
   "execution_count": 51,
   "metadata": {
    "collapsed": false
   },
   "outputs": [],
   "source": [
    "a=[1,2,3]"
   ]
  },
  {
   "cell_type": "code",
   "execution_count": 60,
   "metadata": {
    "collapsed": false
   },
   "outputs": [],
   "source": [
    "b= mine.keys()"
   ]
  },
  {
   "cell_type": "code",
   "execution_count": 61,
   "metadata": {
    "collapsed": false
   },
   "outputs": [
    {
     "data": {
      "text/plain": [
       "[(13, 86),\n",
       " (0, 86),\n",
       " (1, 86),\n",
       " (3, 86),\n",
       " (8, 86),\n",
       " (9, 86),\n",
       " (11, 86),\n",
       " (2, 86),\n",
       " (4, 86),\n",
       " (6, 86),\n",
       " (5, 86),\n",
       " (7, 86),\n",
       " (10, 86),\n",
       " (12, 86),\n",
       " (14, 86)]"
      ]
     },
     "execution_count": 61,
     "metadata": {},
     "output_type": "execute_result"
    }
   ],
   "source": [
    "b"
   ]
  },
  {
   "cell_type": "code",
   "execution_count": 72,
   "metadata": {
    "collapsed": false
   },
   "outputs": [
    {
     "data": {
      "text/plain": [
       "[(0, 86),\n",
       " (1, 86),\n",
       " (2, 86),\n",
       " (3, 86),\n",
       " (4, 86),\n",
       " (5, 86),\n",
       " (6, 86),\n",
       " (7, 86),\n",
       " (8, 86),\n",
       " (9, 86),\n",
       " (10, 86),\n",
       " (11, 86),\n",
       " (12, 86),\n",
       " (13, 86),\n",
       " (14, 86)]"
      ]
     },
     "execution_count": 72,
     "metadata": {},
     "output_type": "execute_result"
    }
   ],
   "source": [
    "sorted(b)"
   ]
  },
  {
   "cell_type": "code",
   "execution_count": null,
   "metadata": {
    "collapsed": true
   },
   "outputs": [],
   "source": []
  }
 ],
 "metadata": {
  "kernelspec": {
   "display_name": "Python 2",
   "language": "python",
   "name": "python2"
  },
  "language_info": {
   "codemirror_mode": {
    "name": "ipython",
    "version": 2
   },
   "file_extension": ".py",
   "mimetype": "text/x-python",
   "name": "python",
   "nbconvert_exporter": "python",
   "pygments_lexer": "ipython2",
   "version": "2.7.10"
  }
 },
 "nbformat": 4,
 "nbformat_minor": 0
}
